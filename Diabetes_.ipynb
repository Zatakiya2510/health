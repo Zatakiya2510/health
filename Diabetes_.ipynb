{
 "cells": [
  {
   "cell_type": "code",
   "execution_count": 1,
   "metadata": {},
   "outputs": [
    {
     "name": "stdout",
     "output_type": "stream",
     "text": [
      "Model Accuracy: 0.96\n",
      "Model and Scaler saved successfully.\n"
     ]
    }
   ],
   "source": [
    "import pandas as pd\n",
    "import joblib\n",
    "from sklearn.model_selection import train_test_split\n",
    "from sklearn.ensemble import RandomForestClassifier\n",
    "from sklearn.metrics import accuracy_score\n",
    "from sklearn.preprocessing import StandardScaler\n",
    "\n",
    "# Load the dataset\n",
    "file_path = \"diabetes.csv\"\n",
    "diabetes_df = pd.read_csv(file_path)\n",
    "\n",
    "# Handle missing values by filling with median for numerical columns\n",
    "diabetes_df.fillna(diabetes_df.median(), inplace=True)\n",
    "\n",
    "# Define features and target\n",
    "X = diabetes_df.drop(columns=['Outcome'])\n",
    "y = diabetes_df['Outcome']\n",
    "\n",
    "# Feature Scaling (Optional, but recommended)\n",
    "scaler = StandardScaler()\n",
    "X_scaled = scaler.fit_transform(X)\n",
    "\n",
    "# Split the data\n",
    "X_train, X_test, y_train, y_test = train_test_split(X_scaled, y, test_size=0.2, random_state=42)\n",
    "\n",
    "# Adjust RandomForest parameters to reduce accuracy\n",
    "model_reduced = RandomForestClassifier(\n",
    "    n_estimators=50,          # Reduce number of trees\n",
    "    max_depth=10,             # Limit tree depth\n",
    "    min_samples_split=10,     # Increase min samples to split\n",
    "    min_samples_leaf=5,       # Increase min samples per leaf\n",
    "    random_state=42\n",
    ")\n",
    "\n",
    "# Train the model\n",
    "model_reduced.fit(X_train, y_train)\n",
    "\n",
    "# Evaluate the updated model\n",
    "y_pred_reduced = model_reduced.predict(X_test)\n",
    "accuracy_reduced = accuracy_score(y_test, y_pred_reduced)\n",
    "print(f\"Model Accuracy: {accuracy_reduced:.2f}\")\n",
    "\n",
    "# Save the model and scaler\n",
    "joblib.dump(model_reduced, open(\"diabetes_model.pkl\", \"wb\"))\n",
    "joblib.dump(scaler, open(\"scaler.pkl\", \"wb\"))\n",
    "print(\"Model and Scaler saved successfully.\")\n"
   ]
  }
 ],
 "metadata": {
  "kernelspec": {
   "display_name": "Python 3",
   "language": "python",
   "name": "python3"
  },
  "language_info": {
   "codemirror_mode": {
    "name": "ipython",
    "version": 3
   },
   "file_extension": ".py",
   "mimetype": "text/x-python",
   "name": "python",
   "nbconvert_exporter": "python",
   "pygments_lexer": "ipython3",
   "version": "3.13.1"
  }
 },
 "nbformat": 4,
 "nbformat_minor": 4
}
